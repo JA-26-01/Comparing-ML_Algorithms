{
  "nbformat": 4,
  "nbformat_minor": 0,
  "metadata": {
    "colab": {
      "provenance": []
    },
    "kernelspec": {
      "name": "python3",
      "display_name": "Python 3"
    },
    "language_info": {
      "name": "python"
    }
  },
  "cells": [
    {
      "cell_type": "code",
      "execution_count": null,
      "metadata": {
        "colab": {
          "base_uri": "https://localhost:8080/"
        },
        "id": "F1347nFdYMFq",
        "outputId": "2c0e19e8-8537-49f4-d8f2-d6db76d8c2bf"
      },
      "outputs": [
        {
          "output_type": "stream",
          "name": "stdout",
          "text": [
            "Mounted at /content/gdrive\n"
          ]
        }
      ],
      "source": [
        "from google.colab import drive\n",
        "drive.mount('/content/gdrive')"
      ]
    },
    {
      "cell_type": "code",
      "source": [
        "import numpy as np\n",
        "import pandas as pd"
      ],
      "metadata": {
        "id": "ww5kW4OoS53m"
      },
      "execution_count": null,
      "outputs": []
    },
    {
      "cell_type": "code",
      "source": [
        "df_train = pd.read_csv(('/content/gdrive/MyDrive/train_MachineLearningCVE.csv'), skipinitialspace=True)\n",
        "df_test = pd.read_csv(('/content/gdrive/MyDrive/test_MachineLearningCVE.csv'), skipinitialspace=True)"
      ],
      "metadata": {
        "id": "Ky-S7rZ9S8i1"
      },
      "execution_count": null,
      "outputs": []
    },
    {
      "cell_type": "code",
      "source": [
        "df = pd.concat([df_train, df_test], axis=0, copy=True)"
      ],
      "metadata": {
        "id": "5KWlTTYBS-Ao"
      },
      "execution_count": null,
      "outputs": []
    },
    {
      "cell_type": "code",
      "source": [
        "df = df.sample(frac=1)\n",
        "x = df.iloc[:, df.columns != 'Label']\n",
        "y = df[['Label']].to_numpy()"
      ],
      "metadata": {
        "id": "R75bsQoyS_TJ"
      },
      "execution_count": null,
      "outputs": []
    },
    {
      "cell_type": "code",
      "source": [
        "from sklearn.preprocessing import MinMaxScaler\n",
        "scaler = MinMaxScaler()\n",
        "x = scaler.fit_transform(x)"
      ],
      "metadata": {
        "id": "-FzOCYxTTAjl"
      },
      "execution_count": null,
      "outputs": []
    },
    {
      "cell_type": "code",
      "source": [
        "from sklearn.model_selection import train_test_split\n",
        "\n",
        "X_train, X_test, y_train, y_test = train_test_split(x, y, test_size=0.3, random_state=1, stratify=y)"
      ],
      "metadata": {
        "id": "sdjoBZWBTCaf"
      },
      "execution_count": null,
      "outputs": []
    },
    {
      "cell_type": "code",
      "source": [
        "#Decision Tree\n",
        "\n",
        "from sklearn.tree import DecisionTreeClassifier\n",
        "\n",
        "tree_model = DecisionTreeClassifier(criterion='gini', \n",
        "                                    max_depth=4, \n",
        "                                    random_state=1)\n",
        "tree_model.fit(X_train, y_train)\n",
        "from sklearn.metrics import accuracy_score\n",
        "\n",
        "tree_pred=tree_model.predict(X_test)\n",
        "print('Accuracy: %.3f' % accuracy_score(y_test, tree_pred))"
      ],
      "metadata": {
        "colab": {
          "base_uri": "https://localhost:8080/"
        },
        "id": "zp0I3SBqTMAW",
        "outputId": "dca593d6-f6c5-4424-c335-8fc43beddc02"
      },
      "execution_count": null,
      "outputs": [
        {
          "output_type": "stream",
          "name": "stdout",
          "text": [
            "Accuracy: 0.943\n"
          ]
        }
      ]
    },
    {
      "cell_type": "code",
      "source": [
        "#Logistic Regression\n",
        "from sklearn.linear_model import LogisticRegression\n",
        "y_train=np.ravel(y_train)\n",
        "lr = LogisticRegression(C=100.0, random_state=1, solver='lbfgs', multi_class='multinomial')\n",
        "lr.fit(X_train, y_train)\n",
        "\n",
        "from sklearn.metrics import accuracy_score\n",
        "\n",
        "lr_pred = lr.predict(X_test)\n",
        "print('Accuracy: %.3f' % accuracy_score(y_test, lr_pred))"
      ],
      "metadata": {
        "colab": {
          "base_uri": "https://localhost:8080/"
        },
        "id": "qwc78vYLTeKk",
        "outputId": "10744f33-4e7f-43f7-bde0-34c593c11165"
      },
      "execution_count": null,
      "outputs": [
        {
          "output_type": "stream",
          "name": "stderr",
          "text": [
            "/usr/local/lib/python3.7/dist-packages/sklearn/linear_model/_logistic.py:818: ConvergenceWarning: lbfgs failed to converge (status=1):\n",
            "STOP: TOTAL NO. of ITERATIONS REACHED LIMIT.\n",
            "\n",
            "Increase the number of iterations (max_iter) or scale the data as shown in:\n",
            "    https://scikit-learn.org/stable/modules/preprocessing.html\n",
            "Please also refer to the documentation for alternative solver options:\n",
            "    https://scikit-learn.org/stable/modules/linear_model.html#logistic-regression\n",
            "  extra_warning_msg=_LOGISTIC_SOLVER_CONVERGENCE_MSG,\n"
          ]
        },
        {
          "output_type": "stream",
          "name": "stdout",
          "text": [
            "Accuracy: 0.962\n"
          ]
        }
      ]
    },
    {
      "cell_type": "code",
      "source": [
        "#Perceptron Model\n",
        "from sklearn.linear_model import Perceptron\n",
        "\n",
        "ppn = Perceptron(eta0=0.1, random_state=1)\n",
        "ppn.fit(X_train,y_train)\n",
        "\n",
        "ppn_pred = ppn.predict(X_test)\n",
        "print('Accuracy: %.3f' % accuracy_score(y_test, ppn_pred))"
      ],
      "metadata": {
        "colab": {
          "base_uri": "https://localhost:8080/"
        },
        "id": "9oWt9Wo5TnvG",
        "outputId": "313c0b08-e871-4d76-be86-0e259e6d80ab"
      },
      "execution_count": null,
      "outputs": [
        {
          "output_type": "stream",
          "name": "stdout",
          "text": [
            "Accuracy: 0.966\n"
          ]
        }
      ]
    },
    {
      "cell_type": "code",
      "source": [
        "from sklearn.ensemble import RandomForestClassifier\n",
        "from sklearn.metrics import accuracy_score\n",
        "\n",
        "rt=RandomForestClassifier(n_estimators=10)\n",
        "rt.fit(X_train,y_train.ravel())\n",
        "rt_pred=rt.predict(X_test)\n",
        "\n",
        "print(\"Accuracy: %.3f\" % accuracy_score(y_test, rt_pred))"
      ],
      "metadata": {
        "colab": {
          "base_uri": "https://localhost:8080/"
        },
        "id": "JLCBw63eWbWh",
        "outputId": "b6ec3046-9e15-4f62-ae0c-05f1d3d3c01d"
      },
      "execution_count": null,
      "outputs": [
        {
          "output_type": "stream",
          "name": "stdout",
          "text": [
            "Accuracy: 0.999\n"
          ]
        }
      ]
    },
    {
      "cell_type": "code",
      "source": [
        "from sklearn.metrics import confusion_matrix\n",
        "from sklearn.metrics import classification_report\n",
        "\n",
        "confusion_matrix = confusion_matrix(y_test, rt_pred)\n",
        "print(\"Confusion Matrix:\\n\",confusion_matrix)\n",
        "print(\"Classification Report:\\n\",classification_report(y_test, rt_pred))"
      ],
      "metadata": {
        "colab": {
          "base_uri": "https://localhost:8080/"
        },
        "id": "-78FcOPvA64G",
        "outputId": "358534e4-574b-4e69-fce7-c40e2b0b28a3"
      },
      "execution_count": null,
      "outputs": [
        {
          "output_type": "stream",
          "name": "stdout",
          "text": [
            "Confusion Matrix:\n",
            " [[681568     58      5      2      1      7      0      0      0      0\n",
            "     285      1      1      0      1]\n",
            " [   273    317      0      0      0      0      0      0      0      0\n",
            "       0      0      0      0      0]\n",
            " [    28      0  38380      0      0      0      0      0      0      0\n",
            "       0      0      0      0      0]\n",
            " [    10      0      0   3070      6      2      0      0      0      0\n",
            "       0      0      0      0      0]\n",
            " [     9      0      0      0  69313      0      0      0      0      0\n",
            "       0      0      0      0      0]\n",
            " [     4      0      0      0      0   1640      5      0      0      0\n",
            "       0      0      0      0      1]\n",
            " [    11      0      0      0      0      2   1726      0      0      0\n",
            "       0      0      0      0      0]\n",
            " [     0      0      0      0      0      0      0   2381      0      0\n",
            "       0      0      0      0      0]\n",
            " [     0      0      0      0      0      0      0      0      3      0\n",
            "       0      0      0      0      0]\n",
            " [     4      0      0      0      0      0      0      0      0      7\n",
            "       0      0      0      0      0]\n",
            " [     7      0      0      0      1      0      0      0      0      0\n",
            "   47668      0      0      0      3]\n",
            " [     4      0      0      0      0      0      0      0      0      0\n",
            "       0   1765      0      0      0]\n",
            " [     7      0      0      0      2      0      0      0      0      0\n",
            "       0      0    359      0     84]\n",
            " [     4      0      0      1      0      0      0      0      0      0\n",
            "       0      0      0      1      0]\n",
            " [     3      0      0      0      0      0      0      0      0      0\n",
            "       1      0    129      0     63]]\n",
            "Classification Report:\n",
            "               precision    recall  f1-score   support\n",
            "\n",
            "           0       1.00      1.00      1.00    681929\n",
            "           1       0.85      0.54      0.66       590\n",
            "           2       1.00      1.00      1.00     38408\n",
            "           3       1.00      0.99      1.00      3088\n",
            "           4       1.00      1.00      1.00     69322\n",
            "           5       0.99      0.99      0.99      1650\n",
            "           6       1.00      0.99      0.99      1739\n",
            "           7       1.00      1.00      1.00      2381\n",
            "           8       1.00      1.00      1.00         3\n",
            "           9       1.00      0.64      0.78        11\n",
            "          10       0.99      1.00      1.00     47679\n",
            "          11       1.00      1.00      1.00      1769\n",
            "          12       0.73      0.79      0.76       452\n",
            "          13       1.00      0.17      0.29         6\n",
            "          14       0.41      0.32      0.36       196\n",
            "\n",
            "    accuracy                           1.00    849223\n",
            "   macro avg       0.93      0.83      0.85    849223\n",
            "weighted avg       1.00      1.00      1.00    849223\n",
            "\n"
          ]
        }
      ]
    },
    {
      "cell_type": "code",
      "source": [
        "from sklearn.naive_bayes import GaussianNB\n",
        "\n",
        "model = GaussianNB()\n",
        "model.fit(X_train,y_train.ravel())\n",
        "nb_pred=model.predict(X_test)\n",
        "\n",
        "print(\"Accuracy: %.3f\" % accuracy_score(y_test, nb_pred))"
      ],
      "metadata": {
        "colab": {
          "base_uri": "https://localhost:8080/"
        },
        "id": "ycVZIUzpaKn5",
        "outputId": "043259ba-1dd7-4226-e586-c54fabc27f69"
      },
      "execution_count": null,
      "outputs": [
        {
          "output_type": "stream",
          "name": "stdout",
          "text": [
            "Accuracy: 0.706\n"
          ]
        }
      ]
    },
    {
      "cell_type": "code",
      "source": [
        "X_train.shape"
      ],
      "metadata": {
        "colab": {
          "base_uri": "https://localhost:8080/"
        },
        "id": "yHptDL403rc3",
        "outputId": "71b91308-7e34-4c7d-bd74-4c24d14fdea0"
      },
      "execution_count": null,
      "outputs": [
        {
          "output_type": "execute_result",
          "data": {
            "text/plain": [
              "(1981520, 78)"
            ]
          },
          "metadata": {},
          "execution_count": 16
        }
      ]
    },
    {
      "cell_type": "code",
      "source": [
        "import six\n",
        "import sys\n",
        "from sklearn import model_selection\n",
        "from sklearn.ensemble import RandomForestClassifier\n",
        "from sklearn.linear_model import LogisticRegression\n",
        "\n",
        "X_train_1 = X_train[:1000000,]\n",
        "X_train_2 = X_train[1000000:,]\n",
        "y_train_1 = y_train[:1000000]\n",
        "y_train_2 = y_train[1000000:]\n",
        "\n",
        "# Initializing the 1st Random Forest classifier\n",
        "classifier1 = RandomForestClassifier(n_estimators = 10, criterion = \"gini\", max_depth = 4,max_features = \"auto\")\n",
        "classifier1.fit(X_train_1,y_train_1.ravel())\n",
        "# Initializing the 1st Random Forest classifier\n",
        "classifier2 = RandomForestClassifier(n_estimators = 10, criterion = \"gini\", max_depth = 4,max_features = \"auto\")\n",
        "classifier2.fit(X_train_2,y_train_2.ravel())\n",
        "\n",
        "sys.modules['sklearn.externals.six'] = six\n",
        "from mlxtend.classifier import StackingClassifier\n",
        "\n",
        "lr = LogisticRegression()\n",
        "clf_stack = StackingClassifier(classifiers =[classifier1,classifier2], meta_classifier = lr, use_probas = True, use_features_in_secondary = True)\n",
        "model_stack = clf_stack.fit(X_train,y_train.ravel()) \n",
        "\n",
        "pred_stack = model_stack.predict(X_test)       # predictions on test data using stacked model\n"
      ],
      "metadata": {
        "colab": {
          "base_uri": "https://localhost:8080/"
        },
        "id": "rWcNotqtwgZR",
        "outputId": "ef9983f1-9d78-4034-f413-7c9a0e17d659"
      },
      "execution_count": null,
      "outputs": [
        {
          "output_type": "stream",
          "name": "stderr",
          "text": [
            "/usr/local/lib/python3.7/dist-packages/sklearn/linear_model/_logistic.py:818: ConvergenceWarning: lbfgs failed to converge (status=1):\n",
            "STOP: TOTAL NO. of ITERATIONS REACHED LIMIT.\n",
            "\n",
            "Increase the number of iterations (max_iter) or scale the data as shown in:\n",
            "    https://scikit-learn.org/stable/modules/preprocessing.html\n",
            "Please also refer to the documentation for alternative solver options:\n",
            "    https://scikit-learn.org/stable/modules/linear_model.html#logistic-regression\n",
            "  extra_warning_msg=_LOGISTIC_SOLVER_CONVERGENCE_MSG,\n"
          ]
        }
      ]
    },
    {
      "cell_type": "code",
      "source": [
        "from sklearn.metrics import accuracy_score\n",
        "\n",
        "print(\"Accuracy: %.3f\" % accuracy_score(y_test, pred_stack))"
      ],
      "metadata": {
        "colab": {
          "base_uri": "https://localhost:8080/"
        },
        "id": "x263zwSD_U8J",
        "outputId": "43d1836c-6d58-4fad-f518-92e7d6cbeb4e"
      },
      "execution_count": null,
      "outputs": [
        {
          "output_type": "stream",
          "name": "stdout",
          "text": [
            "Accuracy: 0.989\n"
          ]
        }
      ]
    },
    {
      "cell_type": "code",
      "source": [
        "from sklearn.metrics import confusion_matrix\n",
        "from sklearn.metrics import classification_report\n",
        "\n",
        "confusion_matrix = confusion_matrix(y_test, pred_stack)\n",
        "print(\"Confusion Matrix:\\n\",confusion_matrix)\n",
        "print(\"Classification Report:\\n\",classification_report(y_test, pred_stack))"
      ],
      "metadata": {
        "id": "S6GdM0I8XLT3",
        "colab": {
          "base_uri": "https://localhost:8080/"
        },
        "outputId": "21b3ea0b-493f-43ee-b979-3cf28e0f347c"
      },
      "execution_count": null,
      "outputs": [
        {
          "output_type": "stream",
          "name": "stdout",
          "text": [
            "Confusion Matrix:\n",
            " [[679156      2    111     79   1862    216     16      1      0      0\n",
            "     484      2      0      0      0]\n",
            " [   590      0      0      0      0      0      0      0      0      0\n",
            "       0      0      0      0      0]\n",
            " [    87      0  38314      0      7      0      0      0      0      0\n",
            "       0      0      0      0      0]\n",
            " [   339      0      0   2711     35      1      2      0      0      0\n",
            "       0      0      0      0      0]\n",
            " [  2686      0      1     38  66597      0      0      0      0      0\n",
            "       0      0      0      0      0]\n",
            " [   331      0      0      1      0   1220     98      0      0      0\n",
            "       0      0      0      0      0]\n",
            " [   239      0      0      0      0     58   1442      0      0      0\n",
            "       0      0      0      0      0]\n",
            " [     1      0      0      0      5      0      0   2375      0      0\n",
            "       0      0      0      0      0]\n",
            " [     3      0      0      0      0      0      0      0      0      0\n",
            "       0      0      0      0      0]\n",
            " [    10      0      0      0      0      1      0      0      0      0\n",
            "       0      0      0      0      0]\n",
            " [   291      0      0      0     22      0      0      0      0      0\n",
            "   47366      0      0      0      0]\n",
            " [   907      0      0      0      1      0      0      0      0      0\n",
            "       0    861      0      0      0]\n",
            " [   452      0      0      0      0      0      0      0      0      0\n",
            "       0      0      0      0      0]\n",
            " [     5      0      0      1      0      0      0      0      0      0\n",
            "       0      0      0      0      0]\n",
            " [   194      0      0      0      2      0      0      0      0      0\n",
            "       0      0      0      0      0]]\n"
          ]
        },
        {
          "output_type": "stream",
          "name": "stderr",
          "text": [
            "/usr/local/lib/python3.7/dist-packages/sklearn/metrics/_classification.py:1318: UndefinedMetricWarning: Precision and F-score are ill-defined and being set to 0.0 in labels with no predicted samples. Use `zero_division` parameter to control this behavior.\n",
            "  _warn_prf(average, modifier, msg_start, len(result))\n",
            "/usr/local/lib/python3.7/dist-packages/sklearn/metrics/_classification.py:1318: UndefinedMetricWarning: Precision and F-score are ill-defined and being set to 0.0 in labels with no predicted samples. Use `zero_division` parameter to control this behavior.\n",
            "  _warn_prf(average, modifier, msg_start, len(result))\n"
          ]
        },
        {
          "output_type": "stream",
          "name": "stdout",
          "text": [
            "Classification Report:\n",
            "               precision    recall  f1-score   support\n",
            "\n",
            "           0       0.99      1.00      0.99    681929\n",
            "           1       0.00      0.00      0.00       590\n",
            "           2       1.00      1.00      1.00     38408\n",
            "           3       0.96      0.88      0.92      3088\n",
            "           4       0.97      0.96      0.97     69322\n",
            "           5       0.82      0.74      0.78      1650\n",
            "           6       0.93      0.83      0.87      1739\n",
            "           7       1.00      1.00      1.00      2381\n",
            "           8       0.00      0.00      0.00         3\n",
            "           9       0.00      0.00      0.00        11\n",
            "          10       0.99      0.99      0.99     47679\n",
            "          11       1.00      0.49      0.65      1769\n",
            "          12       0.00      0.00      0.00       452\n",
            "          13       0.00      0.00      0.00         6\n",
            "          14       0.00      0.00      0.00       196\n",
            "\n",
            "    accuracy                           0.99    849223\n",
            "   macro avg       0.58      0.53      0.54    849223\n",
            "weighted avg       0.99      0.99      0.99    849223\n",
            "\n"
          ]
        },
        {
          "output_type": "stream",
          "name": "stderr",
          "text": [
            "/usr/local/lib/python3.7/dist-packages/sklearn/metrics/_classification.py:1318: UndefinedMetricWarning: Precision and F-score are ill-defined and being set to 0.0 in labels with no predicted samples. Use `zero_division` parameter to control this behavior.\n",
            "  _warn_prf(average, modifier, msg_start, len(result))\n"
          ]
        }
      ]
    }
  ]
}